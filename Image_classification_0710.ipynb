{
 "cells": [
  {
   "cell_type": "markdown",
   "metadata": {
    "collapsed": true
   },
   "source": [
    "# Image Classification\n",
    "In this project, you'll classify images from the [CIFAR-10 dataset](https://www.cs.toronto.edu/~kriz/cifar.html).  The dataset consists of airplanes, dogs, cats, and other objects. You'll preprocess the images, then train a convolutional neural network on all the samples. The images need to be normalized and the labels need to be one-hot encoded.  You'll get to apply what you learned and build a convolutional, max pooling, dropout, and fully connected layers.  At the end, you'll get to see your neural network's predictions on the sample images.\n",
    "## Get the Data\n",
    "Run the following cell to download the [CIFAR-10 dataset for python](https://www.cs.toronto.edu/~kriz/cifar-10-python.tar.gz)."
   ]
  },
  {
   "cell_type": "code",
   "execution_count": 1,
   "metadata": {},
   "outputs": [
    {
     "name": "stderr",
     "output_type": "stream",
     "text": [
      "CIFAR-10 Dataset: 171MB [00:57, 2.95MB/s]                              \n"
     ]
    },
    {
     "name": "stdout",
     "output_type": "stream",
     "text": [
      "All files found!\n"
     ]
    }
   ],
   "source": [
    "\"\"\"\n",
    "DON'T MODIFY ANYTHING IN THIS CELL THAT IS BELOW THIS LINE\n",
    "\"\"\"\n",
    "from urllib.request import urlretrieve\n",
    "from os.path import isfile, isdir\n",
    "from tqdm import tqdm\n",
    "import problem_unittests as tests\n",
    "import tarfile\n",
    "\n",
    "cifar10_dataset_folder_path = 'cifar-10-batches-py'\n",
    "\n",
    "# Use Floyd's cifar-10 dataset if present\n",
    "floyd_cifar10_location = '/input/cifar-10/python.tar.gz'\n",
    "if isfile(floyd_cifar10_location):\n",
    "    tar_gz_path = floyd_cifar10_location\n",
    "else:\n",
    "    tar_gz_path = 'cifar-10-python.tar.gz'\n",
    "\n",
    "class DLProgress(tqdm):\n",
    "    last_block = 0\n",
    "\n",
    "    def hook(self, block_num=1, block_size=1, total_size=None):\n",
    "        self.total = total_size\n",
    "        self.update((block_num - self.last_block) * block_size)\n",
    "        self.last_block = block_num\n",
    "\n",
    "if not isfile(tar_gz_path):\n",
    "    with DLProgress(unit='B', unit_scale=True, miniters=1, desc='CIFAR-10 Dataset') as pbar:\n",
    "        urlretrieve(\n",
    "            'https://www.cs.toronto.edu/~kriz/cifar-10-python.tar.gz',\n",
    "            tar_gz_path,\n",
    "            pbar.hook)\n",
    "\n",
    "if not isdir(cifar10_dataset_folder_path):\n",
    "    with tarfile.open(tar_gz_path) as tar:\n",
    "        tar.extractall()\n",
    "        tar.close()\n",
    "\n",
    "\n",
    "tests.test_folder_path(cifar10_dataset_folder_path)"
   ]
  },
  {
   "cell_type": "markdown",
   "metadata": {},
   "source": [
    "## Explore the Data\n",
    "The dataset is broken into batches to prevent your machine from running out of memory.  The CIFAR-10 dataset consists of 5 batches, named `data_batch_1`, `data_batch_2`, etc.. Each batch contains the labels and images that are one of the following:\n",
    "* airplane\n",
    "* automobile\n",
    "* bird\n",
    "* cat\n",
    "* deer\n",
    "* dog\n",
    "* frog\n",
    "* horse\n",
    "* ship\n",
    "* truck\n",
    "\n",
    "Understanding a dataset is part of making predictions on the data.  Play around with the code cell below by changing the `batch_id` and `sample_id`. The `batch_id` is the id for a batch (1-5). The `sample_id` is the id for a image and label pair in the batch.\n",
    "\n",
    "Ask yourself \"What are all possible labels?\", \"What is the range of values for the image data?\", \"Are the labels in order or random?\".  Answers to questions like these will help you preprocess the data and end up with better predictions."
   ]
  },
  {
   "cell_type": "code",
   "execution_count": 2,
   "metadata": {},
   "outputs": [
    {
     "name": "stdout",
     "output_type": "stream",
     "text": [
      "\n",
      "Stats of batch 1:\n",
      "Samples: 10000\n",
      "Label Counts: {0: 1005, 1: 974, 2: 1032, 3: 1016, 4: 999, 5: 937, 6: 1030, 7: 1001, 8: 1025, 9: 981}\n",
      "First 20 Labels: [6, 9, 9, 4, 1, 1, 2, 7, 8, 3, 4, 7, 7, 2, 9, 9, 9, 3, 2, 6]\n",
      "\n",
      "Example of Image 5:\n",
      "Image - Min Value: 0 Max Value: 252\n",
      "Image - Shape: (32, 32, 3)\n",
      "Label - Label Id: 1 Name: automobile\n"
     ]
    },
    {
     "data": {
      "image/png": "[encoded data removed]",
      "text/plain": [
       "<matplotlib.figure.Figure at 0x7f9a49ffce48>"
      ]
     },
     "metadata": {
      "image/png": {
       "height": 250,
       "width": 253
      }
     },
     "output_type": "display_data"
    }
   ],
   "source": [
    "%matplotlib inline\n",
    "%config InlineBackend.figure_format = 'retina'\n",
    "\n",
    "import helper\n",
    "import numpy as np\n",
    "\n",
    "# Explore the dataset\n",
    "batch_id = 1\n",
    "sample_id = 5\n",
    "helper.display_stats(cifar10_dataset_folder_path, batch_id, sample_id)"
   ]
  },
  {
   "cell_type": "markdown",
   "metadata": {},
   "source": [
    "## Implement Preprocess Functions\n",
    "### Normalize\n",
    "In the cell below, implement the `normalize` function to take in image data, `x`, and return it as a normalized Numpy array. The values should be in the range of 0 to 1, inclusive.  The return object should be the same shape as `x`."
   ]
  },
  {
   "cell_type": "code",
   "execution_count": 3,
   "metadata": {},
   "outputs": [
    {
     "name": "stdout",
     "output_type": "stream",
     "text": [
      "Tests Passed\n"
     ]
    }
   ],
   "source": [
    "def normalize(x):\n",
    "    \"\"\"\n",
    "    Normalize a list of sample image data in the range of 0 to 1\n",
    "    : x: List of image data.  The image shape is (32, 32, 3)\n",
    "    : return: Numpy array of normalize data\n",
    "    \"\"\"\n",
    "    # TODO: Implement Function\n",
    "    return np.array(x)/255\n",
    "\n",
    "\n",
    "\"\"\"\n",
    "DON'T MODIFY ANYTHING IN THIS CELL THAT IS BELOW THIS LINE\n",
    "\"\"\"\n",
    "tests.test_normalize(normalize)"
   ]
  },
  {
   "cell_type": "markdown",
   "metadata": {},
   "source": [
    "### One-hot encode\n",
    "Just like the previous code cell, you'll be implementing a function for preprocessing.  This time, you'll implement the `one_hot_encode` function. The input, `x`, are a list of labels.  Implement the function to return the list of labels as One-Hot encoded Numpy array.  The possible values for labels are 0 to 9. The one-hot encoding function should return the same encoding for each value between each call to `one_hot_encode`.  Make sure to save the map of encodings outside the function.\n",
    "\n",
    "Hint: Don't reinvent the wheel."
   ]
  },
  {
   "cell_type": "code",
   "execution_count": 4,
   "metadata": {},
   "outputs": [
    {
     "name": "stdout",
     "output_type": "stream",
     "text": [
      "Tests Passed\n"
     ]
    }
   ],
   "source": [
    "from sklearn.preprocessing import LabelBinarizer\n",
    "def one_hot_encode(x):\n",
    "    \"\"\"\n",
    "    One hot encode a list of sample labels. Return a one-hot encoded vector for each label.\n",
    "    : x: List of sample Labels\n",
    "    : return: Numpy array of one-hot encoded labels\n",
    "    \"\"\"\n",
    "    # TODO: Implement Function\n",
    "    ohe = LabelBinarizer().fit(range(10))\n",
    "    return ohe.transform(x)\n",
    "\n",
    "\n",
    "\"\"\"\n",
    "DON'T MODIFY ANYTHING IN THIS CELL THAT IS BELOW THIS LINE\n",
    "\"\"\"\n",
    "tests.test_one_hot_encode(one_hot_encode)"
   ]
  },
  {
   "cell_type": "markdown",
   "metadata": {},
   "source": [
    "### Randomize Data\n",
    "As you saw from exploring the data above, the order of the samples are randomized.  It doesn't hurt to randomize it again, but you don't need to for this dataset."
   ]
  },
  {
   "cell_type": "markdown",
   "metadata": {},
   "source": [
    "## Preprocess all the data and save it\n",
    "Running the code cell below will preprocess all the CIFAR-10 data and save it to file. The code below also uses 10% of the training data for validation."
   ]
  },
  {
   "cell_type": "code",
   "execution_count": 5,
   "metadata": {
    "collapsed": true
   },
   "outputs": [],
   "source": [
    "\"\"\"\n",
    "DON'T MODIFY ANYTHING IN THIS CELL\n",
    "\"\"\"\n",
    "# Preprocess Training, Validation, and Testing Data\n",
    "helper.preprocess_and_save_data(cifar10_dataset_folder_path, normalize, one_hot_encode)"
   ]
  },
  {
   "cell_type": "markdown",
   "metadata": {},
   "source": [
    "# Check Point\n",
    "This is your first checkpoint.  If you ever decide to come back to this notebook or have to restart the notebook, you can start from here.  The preprocessed data has been saved to disk."
   ]
  },
  {
   "cell_type": "code",
   "execution_count": 6,
   "metadata": {
    "collapsed": true
   },
   "outputs": [],
   "source": [
    "\"\"\"\n",
    "DON'T MODIFY ANYTHING IN THIS CELL\n",
    "\"\"\"\n",
    "import pickle\n",
    "import problem_unittests as tests\n",
    "import helper\n",
    "\n",
    "# Load the Preprocessed Validation data\n",
    "valid_features, valid_labels = pickle.load(open('preprocess_validation.p', mode='rb'))"
   ]
  },
  {
   "cell_type": "markdown",
   "metadata": {},
   "source": [
    "## Build the network\n",
    "For the neural network, you'll build each layer into a function.  Most of the code you've seen has been outside of functions. To test your code more thoroughly, we require that you put each layer in a function.  This allows us to give you better feedback and test for simple mistakes using our unittests before you submit your project.\n",
    "\n",
    ">**Note:** If you're finding it hard to dedicate enough time for this course each week, we've provided a small shortcut to this part of the project. In the next couple of problems, you'll have the option to use classes from the [TensorFlow Layers](https://www.tensorflow.org/api_docs/python/tf/layers) or [TensorFlow Layers (contrib)](https://www.tensorflow.org/api_guides/python/contrib.layers) packages to build each layer, except the layers you build in the \"Convolutional and Max Pooling Layer\" section.  TF Layers is similar to Keras's and TFLearn's abstraction to layers, so it's easy to pickup.\n",
    "\n",
    ">However, if you would like to get the most out of this course, try to solve all the problems _without_ using anything from the TF Layers packages. You **can** still use classes from other packages that happen to have the same name as ones you find in TF Layers! For example, instead of using the TF Layers version of the `conv2d` class, [tf.layers.conv2d](https://www.tensorflow.org/api_docs/python/tf/layers/conv2d), you would want to use the TF Neural Network version of `conv2d`, [tf.nn.conv2d](https://www.tensorflow.org/api_docs/python/tf/nn/conv2d). \n",
    "\n",
    "Let's begin!\n",
    "\n",
    "### Input\n",
    "The neural network needs to read the image data, one-hot encoded labels, and dropout keep probability. Implement the following functions\n",
    "* Implement `neural_net_image_input`\n",
    " * Return a [TF Placeholder](https://www.tensorflow.org/api_docs/python/tf/placeholder)\n",
    " * Set the shape using `image_shape` with batch size set to `None`.\n",
    " * Name the TensorFlow placeholder \"x\" using the TensorFlow `name` parameter in the [TF Placeholder](https://www.tensorflow.org/api_docs/python/tf/placeholder).\n",
    "* Implement `neural_net_label_input`\n",
    " * Return a [TF Placeholder](https://www.tensorflow.org/api_docs/python/tf/placeholder)\n",
    " * Set the shape using `n_classes` with batch size set to `None`.\n",
    " * Name the TensorFlow placeholder \"y\" using the TensorFlow `name` parameter in the [TF Placeholder](https://www.tensorflow.org/api_docs/python/tf/placeholder).\n",
    "* Implement `neural_net_keep_prob_input`\n",
    " * Return a [TF Placeholder](https://www.tensorflow.org/api_docs/python/tf/placeholder) for dropout keep probability.\n",
    " * Name the TensorFlow placeholder \"keep_prob\" using the TensorFlow `name` parameter in the [TF Placeholder](https://www.tensorflow.org/api_docs/python/tf/placeholder).\n",
    "\n",
    "These names will be used at the end of the project to load your saved model.\n",
    "\n",
    "Note: `None` for shapes in TensorFlow allow for a dynamic size."
   ]
  },
  {
   "cell_type": "code",
   "execution_count": 7,
   "metadata": {},
   "outputs": [
    {
     "name": "stdout",
     "output_type": "stream",
     "text": [
      "Image Input Tests Passed.\n",
      "Label Input Tests Passed.\n",
      "Keep Prob Tests Passed.\n"
     ]
    }
   ],
   "source": [
    "import tensorflow as tf\n",
    "\n",
    "def neural_net_image_input(image_shape):\n",
    "    \"\"\"\n",
    "    Return a Tensor for a batch of image input\n",
    "    : image_shape: Shape of the images\n",
    "    : return: Tensor for image input.\n",
    "    \"\"\"\n",
    "    # TODO: Implement Function\n",
    "    #print (image_shape)\n",
    "    image_shape = tuple([None] + list(image_shape))\n",
    "    return tf.placeholder(dtype = tf.float32,shape = image_shape, name = \"x\")\n",
    "    return None\n",
    "\n",
    "\n",
    "def neural_net_label_input(n_classes):\n",
    "    \"\"\"\n",
    "    Return a Tensor for a batch of label input\n",
    "    : n_classes: Number of classes\n",
    "    : return: Tensor for label input.\n",
    "    \"\"\"\n",
    "    # TODO: Implement Function\n",
    "    return tf.placeholder(dtype = tf.int32, shape = (None,n_classes), name = \"y\")\n",
    "    return None\n",
    "\n",
    "\n",
    "def neural_net_keep_prob_input():\n",
    "    \"\"\"\n",
    "    Return a Tensor for keep probability\n",
    "    : return: Tensor for keep probability.\n",
    "    \"\"\"\n",
    "    # TODO: Implement Function\n",
    "    return tf.placeholder(dtype = tf.float32, name = \"keep_prob\")\n",
    "    return None\n",
    "\n",
    "\n",
    "\"\"\"\n",
    "DON'T MODIFY ANYTHING IN THIS CELL THAT IS BELOW THIS LINE\n",
    "\"\"\"\n",
    "tf.reset_default_graph()\n",
    "tests.test_nn_image_inputs(neural_net_image_input)\n",
    "tests.test_nn_label_inputs(neural_net_label_input)\n",
    "tests.test_nn_keep_prob_inputs(neural_net_keep_prob_input)"
   ]
  },
  {
   "cell_type": "markdown",
   "metadata": {},
   "source": [
    "### Convolution and Max Pooling Layer\n",
    "Convolution layers have a lot of success with images. For this code cell, you should implement the function `conv2d_maxpool` to apply convolution then max pooling:\n",
    "* Create the weight and bias using `conv_ksize`, `conv_num_outputs` and the shape of `x_tensor`.\n",
    "* Apply a convolution to `x_tensor` using weight and `conv_strides`.\n",
    " * We recommend you use same padding, but you're welcome to use any padding.\n",
    "* Add bias\n",
    "* Add a nonlinear activation to the convolution.\n",
    "* Apply Max Pooling using `pool_ksize` and `pool_strides`.\n",
    " * We recommend you use same padding, but you're welcome to use any padding.\n",
    "\n",
    "**Note:** You **can't** use [TensorFlow Layers](https://www.tensorflow.org/api_docs/python/tf/layers) or [TensorFlow Layers (contrib)](https://www.tensorflow.org/api_guides/python/contrib.layers) for **this** layer, but you can still use TensorFlow's [Neural Network](https://www.tensorflow.org/api_docs/python/tf/nn) package. You may still use the shortcut option for all the **other** layers."
   ]
  },
  {
   "cell_type": "code",
   "execution_count": 8,
   "metadata": {},
   "outputs": [
    {
     "name": "stdout",
     "output_type": "stream",
     "text": [
      "Tests Passed\n"
     ]
    }
   ],
   "source": [
    "batch_size = 1\n",
    "def conv2d_maxpool(x_tensor, conv_num_outputs, conv_ksize, conv_strides, pool_ksize, pool_strides):\n",
    "    \"\"\"\n",
    "    Apply convolution then max pooling to x_tensor\n",
    "    :param x_tensor: TensorFlow Tensor\n",
    "    :param conv_num_outputs: Number of outputs for the convolutional layer\n",
    "    :param conv_ksize: kernal size 2-D Tuple for the convolutional layer\n",
    "    :param conv_strides: Stride 2-D Tuple for convolution\n",
    "    :param pool_ksize: kernal size 2-D Tuple for pool\n",
    "    :param pool_strides: Stride 2-D Tuple for pool\n",
    "    : return: A tensor that represents convolution and max pooling of x_tensor\n",
    "    \"\"\"\n",
    "    # TODO: Implement Function\n",
    "    conv_weights = tf.Variable(dtype = tf.float32, initial_value= \n",
    "                               tf.truncated_normal(stddev = 1/(np.sqrt(batch_size)),\\\n",
    "                                                   shape = conv_ksize+ tuple([tf.cast(x_tensor.shape[3],tf.int32)]) + tuple([conv_num_outputs])))\n",
    "    conv_biases =  tf.Variable(dtype = tf.float32, initial_value= tf.zeros(shape = (conv_num_outputs)))\n",
    "    \n",
    "    #pool_weights = tf.Variable(dtype = tf.float32, initial_value = tf.truncated_normal(shape = pool_ksize+\\\n",
    "    #                                                                                  tuple([conv_num_outputs,])))\n",
    "    #pool_biases =  tf.Variable(dtype = tf.float32, initial_values = tf.zeros(shape = ()))\n",
    "    \n",
    "    conv_output = tf.nn.conv2d(x_tensor, conv_weights, strides = tuple([1])+conv_strides + tuple([1]), padding = \"SAME\")\n",
    "    conv_output = tf.nn.relu(tf.nn.bias_add(conv_output, conv_biases))\n",
    "    \n",
    "    \n",
    "    pool_output = tf.nn.max_pool(conv_output, ksize = tuple([1])+pool_ksize + tuple ([1]),\\\n",
    "                                strides = tuple([1])+pool_strides + tuple ([1]), padding = \"VALID\")\n",
    "    return pool_output\n",
    "    return None\n",
    "\n",
    "\n",
    "\"\"\"\n",
    "DON'T MODIFY ANYTHING IN THIS CELL THAT IS BELOW THIS LINE\n",
    "\"\"\"\n",
    "tests.test_con_pool(conv2d_maxpool)"
   ]
  },
  {
   "cell_type": "markdown",
   "metadata": {},
   "source": [
    "### Flatten Layer\n",
    "Implement the `flatten` function to change the dimension of `x_tensor` from a 4-D tensor to a 2-D tensor.  The output should be the shape (*Batch Size*, *Flattened Image Size*). Shortcut option: you can use classes from the [TensorFlow Layers](https://www.tensorflow.org/api_docs/python/tf/layers) or [TensorFlow Layers (contrib)](https://www.tensorflow.org/api_guides/python/contrib.layers) packages for this layer. For more of a challenge, only use other TensorFlow packages."
   ]
  },
  {
   "cell_type": "code",
   "execution_count": 9,
   "metadata": {},
   "outputs": [
    {
     "name": "stdout",
     "output_type": "stream",
     "text": [
      "Tests Passed\n"
     ]
    }
   ],
   "source": [
    "def flatten(x_tensor):\n",
    "    \"\"\"\n",
    "    Flatten x_tensor to (Batch Size, Flattened Image Size)\n",
    "    : x_tensor: A tensor of size (Batch Size, ...), where ... are the image dimensions.\n",
    "    : return: A tensor of size (Batch Size, Flattened Image Size).\n",
    "    \"\"\"\n",
    "    # TODO: Implement Function\n",
    "    return tf.contrib.layers.flatten(x_tensor)\n",
    "\n",
    "\n",
    "\"\"\"\n",
    "DON'T MODIFY ANYTHING IN THIS CELL THAT IS BELOW THIS LINE\n",
    "\"\"\"\n",
    "tests.test_flatten(flatten)"
   ]
  },
  {
   "cell_type": "markdown",
   "metadata": {},
   "source": [
    "### Fully-Connected Layer\n",
    "Implement the `fully_conn` function to apply a fully connected layer to `x_tensor` with the shape (*Batch Size*, *num_outputs*). Shortcut option: you can use classes from the [TensorFlow Layers](https://www.tensorflow.org/api_docs/python/tf/layers) or [TensorFlow Layers (contrib)](https://www.tensorflow.org/api_guides/python/contrib.layers) packages for this layer. For more of a challenge, only use other TensorFlow packages."
   ]
  },
  {
   "cell_type": "code",
   "execution_count": 10,
   "metadata": {},
   "outputs": [
    {
     "name": "stdout",
     "output_type": "stream",
     "text": [
      "Tests Passed\n"
     ]
    }
   ],
   "source": [
    "def fully_conn(x_tensor, num_outputs):\n",
    "    \"\"\"\n",
    "    Apply a fully connected layer to x_tensor using weight and bias\n",
    "    : x_tensor: A 2-D tensor where the first dimension is batch size.\n",
    "    : num_outputs: The number of output that the new tensor should be.\n",
    "    : return: A 2-D tensor where the second dimension is num_outputs.\n",
    "    \"\"\"\n",
    "    n_inputs = tf.cast(x_tensor.shape[1], dtype = tf.int32)\n",
    "    weights = tf.Variable(dtype = tf.float32, initial_value= tf.truncated_normal(stddev = 1/(np.sqrt(batch_size)),\\\n",
    "                                                                                 shape = (n_inputs, num_outputs)))\n",
    "    biases = tf.Variable(dtype = tf.float32, initial_value = tf.zeros(shape = num_outputs))\n",
    "    return tf.add(tf.matmul(x_tensor, weights), biases)\n",
    "    \n",
    "    # TODO: Implement Function\n",
    "    return None\n",
    "\n",
    "\n",
    "\"\"\"\n",
    "DON'T MODIFY ANYTHING IN THIS CELL THAT IS BELOW THIS LINE\n",
    "\"\"\"\n",
    "tests.test_fully_conn(fully_conn)"
   ]
  },
  {
   "cell_type": "markdown",
   "metadata": {},
   "source": [
    "### Output Layer\n",
    "Implement the `output` function to apply a fully connected layer to `x_tensor` with the shape (*Batch Size*, *num_outputs*). Shortcut option: you can use classes from the [TensorFlow Layers](https://www.tensorflow.org/api_docs/python/tf/layers) or [TensorFlow Layers (contrib)](https://www.tensorflow.org/api_guides/python/contrib.layers) packages for this layer. For more of a challenge, only use other TensorFlow packages.\n",
    "\n",
    "**Note:** Activation, softmax, or cross entropy should **not** be applied to this."
   ]
  },
  {
   "cell_type": "code",
   "execution_count": 11,
   "metadata": {},
   "outputs": [
    {
     "name": "stdout",
     "output_type": "stream",
     "text": [
      "Tests Passed\n"
     ]
    }
   ],
   "source": [
    "def output(x_tensor, num_outputs):\n",
    "    \"\"\"\n",
    "    Apply a output layer to x_tensor using weight and bias\n",
    "    : x_tensor: A 2-D tensor where the first dimension is batch size.\n",
    "    : num_outputs: The number of output that the new tensor should be.\n",
    "    : return: A 2-D tensor where the second dimension is num_outputs.\n",
    "    \"\"\"\n",
    "    # TODO: Implement Function\n",
    "    n_input = tf.cast(x_tensor.shape[1], tf.int32)\n",
    "    weights = tf.Variable(dtype = tf.float32, initial_value = tf.truncated_normal(stddev = 1/(np.sqrt(batch_size)),\\\n",
    "                                                                                  shape = (n_input, num_outputs)))\n",
    "    biases = tf.Variable (dtype = tf.float32, initial_value = tf.zeros(shape = (num_outputs)))\n",
    "    return tf.add(tf.matmul(x_tensor, weights), biases)\n",
    "    return None\n",
    "\n",
    "\n",
    "\"\"\"\n",
    "DON'T MODIFY ANYTHING IN THIS CELL THAT IS BELOW THIS LINE\n",
    "\"\"\"\n",
    "tests.test_output(output)"
   ]
  },
  {
   "cell_type": "markdown",
   "metadata": {},
   "source": [
    "### Create Convolutional Model\n",
    "Implement the function `conv_net` to create a convolutional neural network model. The function takes in a batch of images, `x`, and outputs logits.  Use the layers you created above to create this model:\n",
    "\n",
    "* Apply 1, 2, or 3 Convolution and Max Pool layers\n",
    "* Apply a Flatten Layer\n",
    "* Apply 1, 2, or 3 Fully Connected Layers\n",
    "* Apply an Output Layer\n",
    "* Return the output\n",
    "* Apply [TensorFlow's Dropout](https://www.tensorflow.org/api_docs/python/tf/nn/dropout) to one or more layers in the model using `keep_prob`. "
   ]
  },
  {
   "cell_type": "code",
   "execution_count": 25,
   "metadata": {},
   "outputs": [
    {
     "name": "stdout",
     "output_type": "stream",
     "text": [
      "Neural Network Built!\n"
     ]
    }
   ],
   "source": [
    "def conv_net(x, keep_prob):\n",
    "    \"\"\"\n",
    "    Create a convolutional neural network model\n",
    "    : x: Placeholder tensor that holds image data.\n",
    "    : keep_prob: Placeholder tensor that hold dropout keep probability.\n",
    "    : return: Tensor that represents logits\n",
    "    \"\"\"\n",
    "    # TODO: Apply 1, 2, or 3 Convolution and Max Pool layers\n",
    "    #    Play around with different number of outputs, kernel size and stride\n",
    "    # Function Definition from Above:\n",
    "    #    conv2d_maxpool(x_tensor, conv_num_outputs, conv_ksize, conv_strides, pool_ksize, pool_strides)\n",
    "    conv_max_1 = \\\n",
    "    conv2d_maxpool(x, conv_num_outputs = 50, conv_ksize = (4,4), conv_strides = (1,1), \n",
    "                   pool_ksize = (4,4), pool_strides = (2,2))\n",
    "    conv_max_2 = \\\n",
    "    conv2d_maxpool(conv_max_1, conv_num_outputs = 100, conv_ksize = (4,4), conv_strides = (1,1), \n",
    "                   pool_ksize = (4,4), pool_strides = (2,2))\n",
    "    \n",
    "    #conv_max_3 = \\\n",
    "    #conv2d_maxpool(conv_max_2, conv_num_outputs = 20, conv_ksize = (2,2), conv_strides = (1,1), \n",
    "    #               pool_ksize = (2,2), pool_strides = (1,1))\n",
    "\n",
    "    # TODO: Apply a Flatten Layer\n",
    "    # Function Definition from Above:\n",
    "    #   flatten(x_tensor)\n",
    "    \n",
    "    flatten_output = flatten(conv_max_2)\n",
    "    # TODO: Apply 1, 2, or 3 Fully Connected Layers\n",
    "    #    Play around with different number of outputs\n",
    "    # Function Definition from Above:\n",
    "    #   fully_conn(x_tensor, num_outputs)\n",
    "    \n",
    "    full_conn_output = fully_conn(flatten_output, 300)\n",
    "    full_conn_output = tf.nn.dropout(full_conn_output, keep_prob)\n",
    "    full_conn_output = fully_conn(full_conn_output, 100)\n",
    "    full_conn_output = tf.nn.dropout(full_conn_output, keep_prob)\n",
    "    #full_conn_output = fully_conn(full_conn_output, 20)\n",
    "    # TODO: Apply an Output Layer\n",
    "    #    Set this to the number of classes\n",
    "    # Function Definition from Above:\n",
    "    #   output(x_tensor, num_outputs)\n",
    "    final_output = output(full_conn_output, 10)\n",
    "    \n",
    "    \n",
    "    # TODO: return output\n",
    "    return final_output\n",
    "    return None\n",
    "\n",
    "\n",
    "\"\"\"\n",
    "DON'T MODIFY ANYTHING IN THIS CELL THAT IS BELOW THIS LINE\n",
    "\"\"\"\n",
    "\n",
    "##############################\n",
    "## Build the Neural Network ##\n",
    "##############################\n",
    "\n",
    "# Remove previous weights, bias, inputs, etc..\n",
    "tf.reset_default_graph()\n",
    "\n",
    "# Inputs\n",
    "x = neural_net_image_input((32, 32, 3))\n",
    "y = neural_net_label_input(10)\n",
    "keep_prob = neural_net_keep_prob_input()\n",
    "\n",
    "# Model\n",
    "logits = conv_net(x, keep_prob)\n",
    "\n",
    "# Name logits Tensor, so that is can be loaded from disk after training\n",
    "logits = tf.identity(logits, name='logits')\n",
    "\n",
    "# Loss and Optimizer\n",
    "cost = tf.reduce_mean(tf.nn.softmax_cross_entropy_with_logits(logits=logits, labels=y))\n",
    "optimizer = tf.train.AdamOptimizer(learning_rate=1e-4).minimize(cost)\n",
    "\n",
    "# Accuracy\n",
    "correct_pred = tf.equal(tf.argmax(logits, 1), tf.argmax(y, 1))\n",
    "accuracy = tf.reduce_mean(tf.cast(correct_pred, tf.float32), name='accuracy')\n",
    "\n",
    "tests.test_conv_net(conv_net)"
   ]
  },
  {
   "cell_type": "markdown",
   "metadata": {},
   "source": [
    "## Train the Neural Network\n",
    "### Single Optimization\n",
    "Implement the function `train_neural_network` to do a single optimization.  The optimization should use `optimizer` to optimize in `session` with a `feed_dict` of the following:\n",
    "* `x` for image input\n",
    "* `y` for labels\n",
    "* `keep_prob` for keep probability for dropout\n",
    "\n",
    "This function will be called for each batch, so `tf.global_variables_initializer()` has already been called.\n",
    "\n",
    "Note: Nothing needs to be returned. This function is only optimizing the neural network."
   ]
  },
  {
   "cell_type": "code",
   "execution_count": 26,
   "metadata": {},
   "outputs": [
    {
     "name": "stdout",
     "output_type": "stream",
     "text": [
      "Tests Passed\n"
     ]
    }
   ],
   "source": [
    "def train_neural_network(session, optimizer, keep_probability, feature_batch, label_batch):\n",
    "    \"\"\"\n",
    "    Optimize the session on a batch of images and labels\n",
    "    : session: Current TensorFlow session\n",
    "    : optimizer: TensorFlow optimizer function\n",
    "    : keep_probability: keep probability\n",
    "    : feature_batch: Batch of Numpy image data\n",
    "    : label_batch: Batch of Numpy label data\n",
    "    \"\"\"\n",
    "    # TODO: Implement Function\n",
    "    return session.run(optimizer, feed_dict = {x: feature_batch, y: label_batch, keep_prob: keep_probability})\n",
    "    pass\n",
    "\n",
    "\n",
    "\"\"\"\n",
    "DON'T MODIFY ANYTHING IN THIS CELL THAT IS BELOW THIS LINE\n",
    "\"\"\"\n",
    "tests.test_train_nn(train_neural_network)"
   ]
  },
  {
   "cell_type": "markdown",
   "metadata": {},
   "source": [
    "### Show Stats\n",
    "Implement the function `print_stats` to print loss and validation accuracy.  Use the global variables `valid_features` and `valid_labels` to calculate validation accuracy.  Use a keep probability of `1.0` to calculate the loss and validation accuracy."
   ]
  },
  {
   "cell_type": "code",
   "execution_count": 27,
   "metadata": {
    "collapsed": true
   },
   "outputs": [],
   "source": [
    "def print_stats(session, feature_batch, label_batch, cost, accuracy):\n",
    "    \"\"\"\n",
    "    Print information about loss and validation accuracy\n",
    "    : session: Current TensorFlow session\n",
    "    : feature_batch: Batch of Numpy image data\n",
    "    : label_batch: Batch of Numpy label data\n",
    "    : cost: TensorFlow cost function\n",
    "    : accuracy: TensorFlow accuracy function\n",
    "    \"\"\"\n",
    "    # TODO: Implement Function\n",
    "    loss = session.run(cost, feed_dict = {x: feature_batch, y: label_batch, keep_prob : 1})\n",
    "    acc = session.run(accuracy, feed_dict = {x: feature_batch, y: label_batch, keep_prob : 1})\n",
    "    print(\"loss:%f, acc:%f\" %(loss,acc))\n",
    "    pass"
   ]
  },
  {
   "cell_type": "markdown",
   "metadata": {},
   "source": [
    "### Hyperparameters\n",
    "Tune the following parameters:\n",
    "* Set `epochs` to the number of iterations until the network stops learning or start overfitting\n",
    "* Set `batch_size` to the highest number that your machine has memory for.  Most people set them to common sizes of memory:\n",
    " * 64\n",
    " * 128\n",
    " * 256\n",
    " * ...\n",
    "* Set `keep_probability` to the probability of keeping a node using dropout"
   ]
  },
  {
   "cell_type": "code",
   "execution_count": 28,
   "metadata": {
    "collapsed": true
   },
   "outputs": [],
   "source": [
    "# TODO: Tune Parameters\n",
    "epochs = 25\n",
    "batch_size = 64\n",
    "keep_probability = 1"
   ]
  },
  {
   "cell_type": "markdown",
   "metadata": {},
   "source": [
    "### Train on a Single CIFAR-10 Batch\n",
    "Instead of training the neural network on all the CIFAR-10 batches of data, let's use a single batch. This should save time while you iterate on the model to get a better accuracy.  Once the final validation accuracy is 50% or greater, run the model on all the data in the next section."
   ]
  },
  {
   "cell_type": "code",
   "execution_count": 30,
   "metadata": {},
   "outputs": [
    {
     "name": "stdout",
     "output_type": "stream",
     "text": [
      "Checking the Training on a Single Batch...\n",
      "Epoch  1, CIFAR-10 Batch 1:  loss:2.336738, acc:0.308200\n",
      "Epoch  2, CIFAR-10 Batch 1:  loss:2.016056, acc:0.369800\n",
      "Epoch  3, CIFAR-10 Batch 1:  loss:1.844816, acc:0.409200\n",
      "Epoch  4, CIFAR-10 Batch 1:  loss:1.733076, acc:0.434200\n",
      "Epoch  5, CIFAR-10 Batch 1:  loss:1.644309, acc:0.454200\n",
      "Epoch  6, CIFAR-10 Batch 1:  loss:1.575134, acc:0.482400\n",
      "Epoch  7, CIFAR-10 Batch 1:  loss:1.508605, acc:0.496800\n",
      "Epoch  8, CIFAR-10 Batch 1:  loss:1.457718, acc:0.514400\n",
      "Epoch  9, CIFAR-10 Batch 1:  loss:1.428771, acc:0.519000\n",
      "Epoch 10, CIFAR-10 Batch 1:  loss:1.412886, acc:0.528400\n",
      "Epoch 11, CIFAR-10 Batch 1:  loss:1.403121, acc:0.531800\n",
      "Epoch 12, CIFAR-10 Batch 1:  loss:1.395776, acc:0.538000\n",
      "Epoch 13, CIFAR-10 Batch 1:  loss:1.388644, acc:0.540400\n",
      "Epoch 14, CIFAR-10 Batch 1:  loss:1.381856, acc:0.542600\n",
      "Epoch 15, CIFAR-10 Batch 1:  loss:1.374375, acc:0.547200\n",
      "Epoch 16, CIFAR-10 Batch 1:  loss:1.368519, acc:0.550400\n",
      "Epoch 17, CIFAR-10 Batch 1:  loss:1.363075, acc:0.555800\n",
      "Epoch 18, CIFAR-10 Batch 1:  loss:1.357418, acc:0.557200\n",
      "Epoch 19, CIFAR-10 Batch 1:  loss:1.351864, acc:0.560600\n",
      "Epoch 20, CIFAR-10 Batch 1:  loss:1.347633, acc:0.562600\n",
      "Epoch 21, CIFAR-10 Batch 1:  loss:1.344128, acc:0.565600\n",
      "Epoch 22, CIFAR-10 Batch 1:  loss:1.341918, acc:0.566400\n",
      "Epoch 23, CIFAR-10 Batch 1:  loss:1.341293, acc:0.568200\n",
      "Epoch 24, CIFAR-10 Batch 1:  loss:1.341001, acc:0.570000\n",
      "Epoch 25, CIFAR-10 Batch 1:  loss:1.342391, acc:0.573000\n"
     ]
    }
   ],
   "source": [
    "\"\"\"\n",
    "DON'T MODIFY ANYTHING IN THIS CELL\n",
    "\"\"\"\n",
    "print('Checking the Training on a Single Batch...')\n",
    "with tf.Session() as sess:\n",
    "    # Initializing the variables\n",
    "    sess.run(tf.global_variables_initializer())\n",
    "    \n",
    "    # Training cycle\n",
    "    for epoch in range(epochs):\n",
    "        batch_i = 1\n",
    "        for batch_features, batch_labels in helper.load_preprocess_training_batch(batch_i, batch_size):\n",
    "            train_neural_network(sess, optimizer, keep_probability, batch_features, batch_labels)\n",
    "        print('Epoch {:>2}, CIFAR-10 Batch {}:  '.format(epoch + 1, batch_i), end='')\n",
    "        print_stats(sess, valid_features, valid_labels, cost, accuracy)"
   ]
  },
  {
   "cell_type": "markdown",
   "metadata": {},
   "source": [
    "### Fully Train the Model\n",
    "Now that you got a good accuracy with a single CIFAR-10 batch, try it with all five batches."
   ]
  },
  {
   "cell_type": "code",
   "execution_count": 31,
   "metadata": {},
   "outputs": [
    {
     "name": "stdout",
     "output_type": "stream",
     "text": [
      "Training...\n",
      "Epoch  1, CIFAR-10 Batch 1:  loss:2.609445, acc:0.253000\n",
      "Epoch  1, CIFAR-10 Batch 2:  loss:2.214148, acc:0.334200\n",
      "Epoch  1, CIFAR-10 Batch 3:  loss:2.003448, acc:0.360600\n",
      "Epoch  1, CIFAR-10 Batch 4:  loss:1.826850, acc:0.403600\n",
      "Epoch  1, CIFAR-10 Batch 5:  loss:1.679688, acc:0.433000\n",
      "Epoch  2, CIFAR-10 Batch 1:  loss:1.556242, acc:0.475400\n",
      "Epoch  2, CIFAR-10 Batch 2:  loss:1.655625, acc:0.457200\n",
      "Epoch  2, CIFAR-10 Batch 3:  loss:1.551860, acc:0.487200\n",
      "Epoch  2, CIFAR-10 Batch 4:  loss:1.446002, acc:0.510400\n",
      "Epoch  2, CIFAR-10 Batch 5:  loss:1.456945, acc:0.506400\n",
      "Epoch  3, CIFAR-10 Batch 1:  loss:1.379052, acc:0.533600\n",
      "Epoch  3, CIFAR-10 Batch 2:  loss:1.394047, acc:0.528800\n",
      "Epoch  3, CIFAR-10 Batch 3:  loss:1.324291, acc:0.554400\n",
      "Epoch  3, CIFAR-10 Batch 4:  loss:1.299480, acc:0.554600\n",
      "Epoch  3, CIFAR-10 Batch 5:  loss:1.306347, acc:0.558200\n",
      "Epoch  4, CIFAR-10 Batch 1:  loss:1.268693, acc:0.568400\n",
      "Epoch  4, CIFAR-10 Batch 2:  loss:1.253983, acc:0.567200\n",
      "Epoch  4, CIFAR-10 Batch 3:  loss:1.225618, acc:0.583600\n",
      "Epoch  4, CIFAR-10 Batch 4:  loss:1.198863, acc:0.585200\n",
      "Epoch  4, CIFAR-10 Batch 5:  loss:1.206602, acc:0.587600\n",
      "Epoch  5, CIFAR-10 Batch 1:  loss:1.176532, acc:0.597400\n",
      "Epoch  5, CIFAR-10 Batch 2:  loss:1.172850, acc:0.593200\n",
      "Epoch  5, CIFAR-10 Batch 3:  loss:1.157567, acc:0.603000\n",
      "Epoch  5, CIFAR-10 Batch 4:  loss:1.132314, acc:0.608200\n",
      "Epoch  5, CIFAR-10 Batch 5:  loss:1.140690, acc:0.608800\n",
      "Epoch  6, CIFAR-10 Batch 1:  loss:1.115089, acc:0.619000\n",
      "Epoch  6, CIFAR-10 Batch 2:  loss:1.112773, acc:0.615600\n",
      "Epoch  6, CIFAR-10 Batch 3:  loss:1.109823, acc:0.619800\n",
      "Epoch  6, CIFAR-10 Batch 4:  loss:1.085400, acc:0.621400\n",
      "Epoch  6, CIFAR-10 Batch 5:  loss:1.091195, acc:0.626600\n",
      "Epoch  7, CIFAR-10 Batch 1:  loss:1.074950, acc:0.635000\n",
      "Epoch  7, CIFAR-10 Batch 2:  loss:1.069263, acc:0.633200\n",
      "Epoch  7, CIFAR-10 Batch 3:  loss:1.075272, acc:0.635800\n",
      "Epoch  7, CIFAR-10 Batch 4:  loss:1.051678, acc:0.636400\n",
      "Epoch  7, CIFAR-10 Batch 5:  loss:1.057016, acc:0.635600\n",
      "Epoch  8, CIFAR-10 Batch 1:  loss:1.043054, acc:0.647200\n",
      "Epoch  8, CIFAR-10 Batch 2:  loss:1.037489, acc:0.648800\n",
      "Epoch  8, CIFAR-10 Batch 3:  loss:1.048456, acc:0.644000\n",
      "Epoch  8, CIFAR-10 Batch 4:  loss:1.026187, acc:0.645200\n",
      "Epoch  8, CIFAR-10 Batch 5:  loss:1.028898, acc:0.648800\n",
      "Epoch  9, CIFAR-10 Batch 1:  loss:1.018447, acc:0.657800\n",
      "Epoch  9, CIFAR-10 Batch 2:  loss:1.011669, acc:0.658400\n",
      "Epoch  9, CIFAR-10 Batch 3:  loss:1.025438, acc:0.650200\n",
      "Epoch  9, CIFAR-10 Batch 4:  loss:1.004799, acc:0.653800\n",
      "Epoch  9, CIFAR-10 Batch 5:  loss:1.007088, acc:0.657800\n",
      "Epoch 10, CIFAR-10 Batch 1:  loss:0.999539, acc:0.666800\n",
      "Epoch 10, CIFAR-10 Batch 2:  loss:0.993266, acc:0.665200\n",
      "Epoch 10, CIFAR-10 Batch 3:  loss:1.008285, acc:0.659400\n",
      "Epoch 10, CIFAR-10 Batch 4:  loss:0.990392, acc:0.661000\n",
      "Epoch 10, CIFAR-10 Batch 5:  loss:0.989373, acc:0.664600\n",
      "Epoch 11, CIFAR-10 Batch 1:  loss:0.983348, acc:0.668600\n",
      "Epoch 11, CIFAR-10 Batch 2:  loss:0.977450, acc:0.670600\n",
      "Epoch 11, CIFAR-10 Batch 3:  loss:0.992877, acc:0.668000\n",
      "Epoch 11, CIFAR-10 Batch 4:  loss:0.977880, acc:0.666400\n",
      "Epoch 11, CIFAR-10 Batch 5:  loss:0.977180, acc:0.673800\n",
      "Epoch 12, CIFAR-10 Batch 1:  loss:0.971773, acc:0.671000\n",
      "Epoch 12, CIFAR-10 Batch 2:  loss:0.967052, acc:0.671200\n",
      "Epoch 12, CIFAR-10 Batch 3:  loss:0.986253, acc:0.670800\n",
      "Epoch 12, CIFAR-10 Batch 4:  loss:0.969777, acc:0.672000\n",
      "Epoch 12, CIFAR-10 Batch 5:  loss:0.968078, acc:0.680000\n",
      "Epoch 13, CIFAR-10 Batch 1:  loss:0.961611, acc:0.675200\n",
      "Epoch 13, CIFAR-10 Batch 2:  loss:0.958165, acc:0.678800\n",
      "Epoch 13, CIFAR-10 Batch 3:  loss:0.980723, acc:0.671200\n",
      "Epoch 13, CIFAR-10 Batch 4:  loss:0.964748, acc:0.675600\n",
      "Epoch 13, CIFAR-10 Batch 5:  loss:0.962976, acc:0.685400\n",
      "Epoch 14, CIFAR-10 Batch 1:  loss:0.955336, acc:0.678200\n",
      "Epoch 14, CIFAR-10 Batch 2:  loss:0.952625, acc:0.682000\n",
      "Epoch 14, CIFAR-10 Batch 3:  loss:0.974282, acc:0.674400\n",
      "Epoch 14, CIFAR-10 Batch 4:  loss:0.961310, acc:0.677600\n",
      "Epoch 14, CIFAR-10 Batch 5:  loss:0.960572, acc:0.686000\n",
      "Epoch 15, CIFAR-10 Batch 1:  loss:0.952148, acc:0.679800\n",
      "Epoch 15, CIFAR-10 Batch 2:  loss:0.948704, acc:0.683600\n",
      "Epoch 15, CIFAR-10 Batch 3:  loss:0.969588, acc:0.675600\n",
      "Epoch 15, CIFAR-10 Batch 4:  loss:0.960023, acc:0.680000\n",
      "Epoch 15, CIFAR-10 Batch 5:  loss:0.959559, acc:0.687000\n",
      "Epoch 16, CIFAR-10 Batch 1:  loss:0.951423, acc:0.683200\n",
      "Epoch 16, CIFAR-10 Batch 2:  loss:0.947148, acc:0.686600\n",
      "Epoch 16, CIFAR-10 Batch 3:  loss:0.967510, acc:0.677400\n",
      "Epoch 16, CIFAR-10 Batch 4:  loss:0.959560, acc:0.679600\n",
      "Epoch 16, CIFAR-10 Batch 5:  loss:0.960347, acc:0.685400\n",
      "Epoch 17, CIFAR-10 Batch 1:  loss:0.954217, acc:0.683400\n",
      "Epoch 17, CIFAR-10 Batch 2:  loss:0.945821, acc:0.687400\n",
      "Epoch 17, CIFAR-10 Batch 3:  loss:0.966751, acc:0.678400\n",
      "Epoch 17, CIFAR-10 Batch 4:  loss:0.960251, acc:0.680600\n",
      "Epoch 17, CIFAR-10 Batch 5:  loss:0.962476, acc:0.688000\n",
      "Epoch 18, CIFAR-10 Batch 1:  loss:0.957407, acc:0.685600\n",
      "Epoch 18, CIFAR-10 Batch 2:  loss:0.949952, acc:0.688800\n",
      "Epoch 18, CIFAR-10 Batch 3:  loss:0.966888, acc:0.682800\n",
      "Epoch 18, CIFAR-10 Batch 4:  loss:0.962838, acc:0.680400\n",
      "Epoch 18, CIFAR-10 Batch 5:  loss:0.965861, acc:0.689200\n",
      "Epoch 19, CIFAR-10 Batch 1:  loss:0.963196, acc:0.689200\n",
      "Epoch 19, CIFAR-10 Batch 2:  loss:0.950856, acc:0.690800\n",
      "Epoch 19, CIFAR-10 Batch 3:  loss:0.969819, acc:0.683800\n",
      "Epoch 19, CIFAR-10 Batch 4:  loss:0.966597, acc:0.684000\n",
      "Epoch 19, CIFAR-10 Batch 5:  loss:0.970833, acc:0.691400\n",
      "Epoch 20, CIFAR-10 Batch 1:  loss:0.968556, acc:0.685800\n",
      "Epoch 20, CIFAR-10 Batch 2:  loss:0.957792, acc:0.691200\n",
      "Epoch 20, CIFAR-10 Batch 3:  loss:0.975108, acc:0.684800\n",
      "Epoch 20, CIFAR-10 Batch 4:  loss:0.972283, acc:0.682600\n",
      "Epoch 20, CIFAR-10 Batch 5:  loss:0.976500, acc:0.692400\n",
      "Epoch 21, CIFAR-10 Batch 1:  loss:0.977074, acc:0.686000\n",
      "Epoch 21, CIFAR-10 Batch 2:  loss:0.964849, acc:0.692200\n",
      "Epoch 21, CIFAR-10 Batch 3:  loss:0.982755, acc:0.685600\n",
      "Epoch 21, CIFAR-10 Batch 4:  loss:0.977156, acc:0.683800\n",
      "Epoch 21, CIFAR-10 Batch 5:  loss:0.982218, acc:0.693600\n",
      "Epoch 22, CIFAR-10 Batch 1:  loss:0.985120, acc:0.684800\n",
      "Epoch 22, CIFAR-10 Batch 2:  loss:0.972942, acc:0.690800\n",
      "Epoch 22, CIFAR-10 Batch 3:  loss:0.991331, acc:0.684400\n",
      "Epoch 22, CIFAR-10 Batch 4:  loss:0.983795, acc:0.685200\n",
      "Epoch 22, CIFAR-10 Batch 5:  loss:0.991730, acc:0.693400\n",
      "Epoch 23, CIFAR-10 Batch 1:  loss:0.991401, acc:0.686200\n",
      "Epoch 23, CIFAR-10 Batch 2:  loss:0.981428, acc:0.693000\n",
      "Epoch 23, CIFAR-10 Batch 3:  loss:1.004200, acc:0.683200\n",
      "Epoch 23, CIFAR-10 Batch 4:  loss:0.993683, acc:0.684000\n",
      "Epoch 23, CIFAR-10 Batch 5:  loss:1.002969, acc:0.691800\n",
      "Epoch 24, CIFAR-10 Batch 1:  loss:0.996928, acc:0.689800\n",
      "Epoch 24, CIFAR-10 Batch 2:  loss:0.989346, acc:0.693600\n",
      "Epoch 24, CIFAR-10 Batch 3:  loss:1.018861, acc:0.683400\n",
      "Epoch 24, CIFAR-10 Batch 4:  loss:1.002373, acc:0.684200\n",
      "Epoch 24, CIFAR-10 Batch 5:  loss:1.012824, acc:0.691800\n",
      "Epoch 25, CIFAR-10 Batch 1:  loss:1.005463, acc:0.687800\n",
      "Epoch 25, CIFAR-10 Batch 2:  loss:1.000200, acc:0.691600\n",
      "Epoch 25, CIFAR-10 Batch 3:  loss:1.033384, acc:0.684400\n",
      "Epoch 25, CIFAR-10 Batch 4:  loss:1.012354, acc:0.687400\n",
      "Epoch 25, CIFAR-10 Batch 5:  loss:1.023690, acc:0.689600\n"
     ]
    }
   ],
   "source": [
    "\"\"\"\n",
    "DON'T MODIFY ANYTHING IN THIS CELL\n",
    "\"\"\"\n",
    "save_model_path = './image_classification'\n",
    "\n",
    "print('Training...')\n",
    "with tf.Session() as sess:\n",
    "    # Initializing the variables\n",
    "    sess.run(tf.global_variables_initializer())\n",
    "    \n",
    "    # Training cycle\n",
    "    for epoch in range(epochs):\n",
    "        # Loop over all batches\n",
    "        n_batches = 5\n",
    "        for batch_i in range(1, n_batches + 1):\n",
    "            for batch_features, batch_labels in helper.load_preprocess_training_batch(batch_i, batch_size):\n",
    "                train_neural_network(sess, optimizer, keep_probability, batch_features, batch_labels)\n",
    "            print('Epoch {:>2}, CIFAR-10 Batch {}:  '.format(epoch + 1, batch_i), end='')\n",
    "            print_stats(sess, valid_features, valid_labels, cost, accuracy)\n",
    "            \n",
    "    # Save Model\n",
    "    saver = tf.train.Saver()\n",
    "    save_path = saver.save(sess, save_model_path)"
   ]
  },
  {
   "cell_type": "markdown",
   "metadata": {},
   "source": [
    "# Checkpoint\n",
    "The model has been saved to disk.\n",
    "## Test Model\n",
    "Test your model against the test dataset.  This will be your final accuracy. You should have an accuracy greater than 50%. If you don't, keep tweaking the model architecture and parameters."
   ]
  },
  {
   "cell_type": "code",
   "execution_count": 32,
   "metadata": {},
   "outputs": [
    {
     "name": "stdout",
     "output_type": "stream",
     "text": [
      "INFO:tensorflow:Restoring parameters from ./image_classification\n",
      "Testing Accuracy: 0.6847133757961783\n",
      "\n"
     ]
    },
    {
     "data": {
      "image/png": "[encoded data removed]",
      "text/plain": [
       "<matplotlib.figure.Figure at 0x7f99def3bef0>"
      ]
     },
     "metadata": {
      "image/png": {
       "height": 319,
       "width": 355
      }
     },
     "output_type": "display_data"
    }
   ],
   "source": [
    "\"\"\"\n",
    "DON'T MODIFY ANYTHING IN THIS CELL\n",
    "\"\"\"\n",
    "%matplotlib inline\n",
    "%config InlineBackend.figure_format = 'retina'\n",
    "\n",
    "import tensorflow as tf\n",
    "import pickle\n",
    "import helper\n",
    "import random\n",
    "\n",
    "# Set batch size if not already set\n",
    "try:\n",
    "    if batch_size:\n",
    "        pass\n",
    "except NameError:\n",
    "    batch_size = 64\n",
    "\n",
    "save_model_path = './image_classification'\n",
    "n_samples = 4\n",
    "top_n_predictions = 3\n",
    "\n",
    "def test_model():\n",
    "    \"\"\"\n",
    "    Test the saved model against the test dataset\n",
    "    \"\"\"\n",
    "\n",
    "    test_features, test_labels = pickle.load(open('preprocess_test.p', mode='rb'))\n",
    "    loaded_graph = tf.Graph()\n",
    "\n",
    "    with tf.Session(graph=loaded_graph) as sess:\n",
    "        # Load model\n",
    "        loader = tf.train.import_meta_graph(save_model_path + '.meta')\n",
    "        loader.restore(sess, save_model_path)\n",
    "\n",
    "        # Get Tensors from loaded model\n",
    "        loaded_x = loaded_graph.get_tensor_by_name('x:0')\n",
    "        loaded_y = loaded_graph.get_tensor_by_name('y:0')\n",
    "        loaded_keep_prob = loaded_graph.get_tensor_by_name('keep_prob:0')\n",
    "        loaded_logits = loaded_graph.get_tensor_by_name('logits:0')\n",
    "        loaded_acc = loaded_graph.get_tensor_by_name('accuracy:0')\n",
    "        \n",
    "        # Get accuracy in batches for memory limitations\n",
    "        test_batch_acc_total = 0\n",
    "        test_batch_count = 0\n",
    "        \n",
    "        for test_feature_batch, test_label_batch in helper.batch_features_labels(test_features, test_labels, batch_size):\n",
    "            test_batch_acc_total += sess.run(\n",
    "                loaded_acc,\n",
    "                feed_dict={loaded_x: test_feature_batch, loaded_y: test_label_batch, loaded_keep_prob: 1.0})\n",
    "            test_batch_count += 1\n",
    "\n",
    "        print('Testing Accuracy: {}\\n'.format(test_batch_acc_total/test_batch_count))\n",
    "\n",
    "        # Print Random Samplesnl\n",
    "        random_test_features, random_test_labels = tuple(zip(*random.sample(list(zip(test_features, test_labels)), n_samples)))\n",
    "        random_test_predictions = sess.run(\n",
    "            tf.nn.top_k(tf.nn.softmax(loaded_logits), top_n_predictions),\n",
    "            feed_dict={loaded_x: random_test_features, loaded_y: random_test_labels, loaded_keep_prob: 1.0})\n",
    "        helper.display_image_predictions(random_test_features, random_test_labels, random_test_predictions)\n",
    "\n",
    "\n",
    "test_model()"
   ]
  },
  {
   "cell_type": "markdown",
   "metadata": {},
   "source": [
    "## Why 50-80% Accuracy?\n",
    "You might be wondering why you can't get an accuracy any higher. First things first, 50% isn't bad for a simple CNN.  Pure guessing would get you 10% accuracy. However, you might notice people are getting scores [well above 80%](http://rodrigob.github.io/are_we_there_yet/build/classification_datasets_results.html#43494641522d3130).  That's because we haven't taught you all there is to know about neural networks. We still need to cover a few more techniques.\n",
    "## Submitting This Project\n",
    "When submitting this project, make sure to run all the cells before saving the notebook.  Save the notebook file as \"dlnd_image_classification.ipynb\" and save it as a HTML file under \"File\" -> \"Download as\".  Include the \"helper.py\" and \"problem_unittests.py\" files in your submission."
   ]
  }
 ],
 "metadata": {
  "kernelspec": {
   "display_name": "Python 3",
   "language": "python",
   "name": "python3"
  },
  "language_info": {
   "codemirror_mode": {
    "name": "ipython",
    "version": 3
   },
   "file_extension": ".py",
   "mimetype": "text/x-python",
   "name": "python",
   "nbconvert_exporter": "python",
   "pygments_lexer": "ipython3",
   "version": "3.5.3"
  }
 },
 "nbformat": 4,
 "nbformat_minor": 1
}
